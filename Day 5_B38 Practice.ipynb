{
 "cells": [
  {
   "cell_type": "code",
   "execution_count": 8,
   "metadata": {},
   "outputs": [
    {
     "name": "stdout",
     "output_type": "stream",
     "text": [
      "['blue', 'green', 'orange', 'pink', 'red', 'white', 'yellow']\n"
     ]
    }
   ],
   "source": [
    "# Data in aplhabetical order - temp approach using Tuple\n",
    "\n",
    "colours = (\"red\",\"green\",\"pink\",\"yellow\",\"blue\",\"white\",\"orange\")\n",
    "print(sorted(colours))"
   ]
  },
  {
   "cell_type": "code",
   "execution_count": 20,
   "metadata": {},
   "outputs": [
    {
     "name": "stdout",
     "output_type": "stream",
     "text": [
      "['hari', 'kishore', 'nari', 'pavan', 'raghu', 'vijay', 'yamini']\n"
     ]
    }
   ],
   "source": [
    "#print (colours)\n",
    "# Data in aplhabetical order - perm approach using List\n",
    "\n",
    "Names = [\"hari\",\"raghu\",\"pavan\",\"nari\",\"vijay\",\"yamini\",\"kishore\"]\n",
    "\n",
    "#print (Names)\n",
    "\n",
    "Names.sort()\n",
    "\n",
    "print(Names)\n",
    "\n",
    "\n"
   ]
  },
  {
   "cell_type": "code",
   "execution_count": 26,
   "metadata": {},
   "outputs": [
    {
     "name": "stdout",
     "output_type": "stream",
     "text": [
      "Total count is: 7\n",
      "Total colours are: 7\n"
     ]
    }
   ],
   "source": [
    "# count of elements \n",
    "\n",
    "len (Names)\n",
    "\n",
    "print (\"Total count is:\", len (Names))\n",
    "\n",
    "len (colours)\n",
    "\n",
    "print (\"Total colours are:\", len (colours))"
   ]
  },
  {
   "cell_type": "code",
   "execution_count": 31,
   "metadata": {},
   "outputs": [
    {
     "ename": "TypeError",
     "evalue": "'slice' object is not callable",
     "output_type": "error",
     "traceback": [
      "\u001b[1;31m---------------------------------------------------------------------------\u001b[0m",
      "\u001b[1;31mTypeError\u001b[0m                                 Traceback (most recent call last)",
      "\u001b[1;32m<ipython-input-31-ae2c394dbf95>\u001b[0m in \u001b[0;36m<module>\u001b[1;34m\u001b[0m\n\u001b[0;32m      1\u001b[0m \u001b[1;31m# slicing ------------ slice (start,stop,st\\\u001b[0m\u001b[1;33m\u001b[0m\u001b[1;33m\u001b[0m\u001b[1;33m\u001b[0m\u001b[0m\n\u001b[0;32m      2\u001b[0m \u001b[1;33m\u001b[0m\u001b[0m\n\u001b[1;32m----> 3\u001b[1;33m \u001b[0mslice\u001b[0m\u001b[1;33m(\u001b[0m\u001b[0mNames\u001b[0m\u001b[1;33m(\u001b[0m\u001b[1;36m0\u001b[0m\u001b[1;33m,\u001b[0m\u001b[1;36m7\u001b[0m\u001b[1;33m,\u001b[0m\u001b[1;36m2\u001b[0m\u001b[1;33m)\u001b[0m\u001b[1;33m)\u001b[0m\u001b[1;33m\u001b[0m\u001b[1;33m\u001b[0m\u001b[0m\n\u001b[0m",
      "\u001b[1;31mTypeError\u001b[0m: 'slice' object is not callable"
     ]
    }
   ],
   "source": [
    "# slicing ------------ slice (start,stop,st\\\n",
    "\n",
    "slice(Names(0,7,2))"
   ]
  },
  {
   "cell_type": "code",
   "execution_count": null,
   "metadata": {},
   "outputs": [],
   "source": []
  }
 ],
 "metadata": {
  "kernelspec": {
   "display_name": "Python 3",
   "language": "python",
   "name": "python3"
  },
  "language_info": {
   "codemirror_mode": {
    "name": "ipython",
    "version": 3
   },
   "file_extension": ".py",
   "mimetype": "text/x-python",
   "name": "python",
   "nbconvert_exporter": "python",
   "pygments_lexer": "ipython3",
   "version": "3.8.5"
  }
 },
 "nbformat": 4,
 "nbformat_minor": 4
}
