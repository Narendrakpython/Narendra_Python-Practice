{
 "cells": [
  {
   "cell_type": "code",
   "execution_count": 1,
   "metadata": {},
   "outputs": [
    {
     "name": "stdout",
     "output_type": "stream",
     "text": [
      "enter the digit: 2\n",
      "\n",
      "the number 2 is even\n"
     ]
    }
   ],
   "source": [
    "# EVEN or ODD number recongnition\n",
    "\n",
    "digit = int(input(\"enter the digit: \"))\n",
    "\n",
    "if digit %2 == 0:\n",
    "    \n",
    "    print (\"\\nthe number {} is even\".format(digit))\n",
    "    \n",
    "else:\n",
    "    \n",
    "    print (\"\\nthe number {} is odd\".format(digit))"
   ]
  },
  {
   "cell_type": "code",
   "execution_count": 2,
   "metadata": {},
   "outputs": [
    {
     "name": "stdout",
     "output_type": "stream",
     "text": [
      "2 3 4 5 6 7 8 9 10 "
     ]
    }
   ],
   "source": [
    "\n",
    "#While loop\n",
    "\n",
    "test = 2\n",
    "\n",
    "while test <=10:\n",
    "    \n",
    "    print (test,end =\" \")\n",
    "    \n",
    "    test +=1"
   ]
  },
  {
   "cell_type": "code",
   "execution_count": 5,
   "metadata": {},
   "outputs": [
    {
     "name": "stdout",
     "output_type": "stream",
     "text": [
      "Hi, you can check your vote eligibility here, please enter yourt age18\n",
      "18\n",
      "Hi, you can check your vote eligibility here, please enter yourt agequit\n",
      "quit\n"
     ]
    }
   ],
   "source": [
    "# Integration of while loops with user input\n",
    "\n",
    "prompt = (\"Hi, you can check your vote eligibility here, please enter yourt age\")\n",
    "\n",
    "submit =\"\"\n",
    "\n",
    "while submit != 'quit':\n",
    "    \n",
    "    submit = (input (prompt))\n",
    "    \n",
    "    print (submit)"
   ]
  },
  {
   "cell_type": "code",
   "execution_count": null,
   "metadata": {},
   "outputs": [],
   "source": []
  }
 ],
 "metadata": {
  "kernelspec": {
   "display_name": "Python 3",
   "language": "python",
   "name": "python3"
  },
  "language_info": {
   "codemirror_mode": {
    "name": "ipython",
    "version": 3
   },
   "file_extension": ".py",
   "mimetype": "text/x-python",
   "name": "python",
   "nbconvert_exporter": "python",
   "pygments_lexer": "ipython3",
   "version": "3.8.5"
  }
 },
 "nbformat": 4,
 "nbformat_minor": 4
}
